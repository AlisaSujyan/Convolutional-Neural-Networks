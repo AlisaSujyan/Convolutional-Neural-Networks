{
 "nbformat": 4,
 "nbformat_minor": 0,
 "metadata": {
  "colab": {
   "provenance": [],
   "gpuType": "T4"
  },
  "kernelspec": {
   "name": "python3",
   "display_name": "Python 3"
  },
  "language_info": {
   "name": "python"
  },
  "accelerator": "GPU"
 },
 "cells": [
  {
   "cell_type": "code",
   "source": [
    "!pip install ultralytics matplotlib pandas\n",
    "\n",
    "\"\"\"\n",
    "Streamlined YOLOv8 Training for Object Detection\n",
    "Focus: IoU, mAP, Precision, Recall, F1-Score, Accuracy with Loss Plots\n",
    "\"\"\"\n",
    "\n",
    "import torch\n",
    "import os\n",
    "import yaml\n",
    "import matplotlib.pyplot as plt\n",
    "import pandas as pd\n",
    "import numpy as np\n",
    "from ultralytics import YOLO\n",
    "from torchvision.datasets import VOCDetection\n",
    "\n",
    "# Check GPU availability\n",
    "device = \"cuda\" if torch.cuda.is_available() else \"cpu\"\n",
    "print(f\"Using device: {device}\")\n",
    "\n",
    "# Pascal VOC class names\n",
    "VOC_CLASSES = [\n",
    "    'aeroplane', 'bicycle', 'bird', 'boat', 'bottle', 'bus', 'car',\n",
    "    'cat', 'chair', 'cow', 'diningtable', 'dog', 'horse', 'motorbike',\n",
    "    'person', 'pottedplant', 'sheep', 'sofa', 'train', 'tvmonitor'\n",
    "]\n",
    "\n",
    "def setup_voc_dataset():\n",
    "    \"\"\"Setup Pascal VOC dataset and convert to YOLO format\"\"\"\n",
    "    print(\"Setting up Pascal VOC dataset...\")\n",
    "\n",
    "    # Create directories\n",
    "    for split in ['train', 'val']:\n",
    "        os.makedirs(f\"datasets/VOC/{split}/images\", exist_ok=True)\n",
    "        os.makedirs(f\"datasets/VOC/{split}/labels\", exist_ok=True)\n",
    "\n",
    "    # Download datasets\n",
    "    train_dataset = VOCDetection(root='./datasets', year='2012', image_set='train', download=True)\n",
    "    val_dataset = VOCDetection(root='./datasets', year='2012', image_set='val', download=True)\n",
    "\n",
    "    # Convert both datasets\n",
    "    for dataset, split in [(train_dataset, 'train'), (val_dataset, 'val')]:\n",
    "        print(f\"Converting {split} dataset...\")\n",
    "        convert_to_yolo(dataset, split)\n",
    "\n",
    "    # Create YAML config\n",
    "    yaml_content = {\n",
    "        'train': os.path.abspath('datasets/VOC/train'),\n",
    "        'val': os.path.abspath('datasets/VOC/val'),\n",
    "        'nc': 20,\n",
    "        'names': VOC_CLASSES\n",
    "    }\n",
    "\n",
    "    with open('voc_config.yaml', 'w') as f:\n",
    "        yaml.dump(yaml_content, f)\n",
    "\n",
    "    print(f\"Dataset ready: {len(train_dataset)} train, {len(val_dataset)} val images\")\n",
    "    return val_dataset\n",
    "\n",
    "def convert_to_yolo(dataset, split):\n",
    "    \"\"\"Convert VOC to YOLO format\"\"\"\n",
    "    output_dir = f'datasets/VOC/{split}'\n",
    "\n",
    "    for idx, (img, annotation) in enumerate(dataset):\n",
    "        # Save image\n",
    "        img_id = annotation['annotation']['filename'].split('.')[0]\n",
    "        img.save(f\"{output_dir}/images/{img_id}.jpg\")\n",
    "\n",
    "        # Convert annotations\n",
    "        height, width = img.height, img.width\n",
    "        with open(f\"{output_dir}/labels/{img_id}.txt\", 'w') as f:\n",
    "            if 'object' in annotation['annotation']:\n",
    "                objects = annotation['annotation']['object']\n",
    "                if not isinstance(objects, list):\n",
    "                    objects = [objects]\n",
    "\n",
    "                for obj in objects:\n",
    "                    if obj['name'] in VOC_CLASSES:\n",
    "                        class_idx = VOC_CLASSES.index(obj['name'])\n",
    "                        bbox = obj['bndbox']\n",
    "\n",
    "                        # Convert to YOLO format (normalized center coords + size)\n",
    "                        x_center = (float(bbox['xmin']) + float(bbox['xmax'])) / (2 * width)\n",
    "                        y_center = (float(bbox['ymin']) + float(bbox['ymax'])) / (2 * height)\n",
    "                        bbox_width = (float(bbox['xmax']) - float(bbox['xmin'])) / width\n",
    "                        bbox_height = (float(bbox['ymax']) - float(bbox['ymin'])) / height\n",
    "\n",
    "                        f.write(f\"{class_idx} {x_center} {y_center} {bbox_width} {bbox_height}\\n\")\n",
    "\n",
    "        if idx % 1000 == 0:\n",
    "            print(f\"Processed {idx}/{len(dataset)} images\")\n",
    "\n",
    "def calculate_iou(box1, box2):\n",
    "    \"\"\"Calculate IoU between two boxes\"\"\"\n",
    "    x1 = max(box1[0], box2[0])\n",
    "    y1 = max(box1[1], box2[1])\n",
    "    x2 = min(box1[2], box2[2])\n",
    "    y2 = min(box1[3], box2[3])\n",
    "\n",
    "    if x2 <= x1 or y2 <= y1:\n",
    "        return 0.0\n",
    "\n",
    "    intersection = (x2 - x1) * (y2 - y1)\n",
    "    area1 = (box1[2] - box1[0]) * (box1[3] - box1[1])\n",
    "    area2 = (box2[2] - box2[0]) * (box2[3] - box2[1])\n",
    "    union = area1 + area2 - intersection\n",
    "\n",
    "    return intersection / union if union > 0 else 0.0\n",
    "\n",
    "def evaluate_accuracy(model, val_dataset, num_samples=200):\n",
    "    \"\"\"Calculate comprehensive accuracy metrics\"\"\"\n",
    "    print(f\"Evaluating accuracy on {num_samples} samples...\")\n",
    "\n",
    "    tp, fp, fn = 0, 0, 0  # True/False Positives, False Negatives\n",
    "    ious = []\n",
    "    sample_indices = np.random.choice(len(val_dataset), min(num_samples, len(val_dataset)), replace=False)\n",
    "\n",
    "    for idx in sample_indices:\n",
    "        img, annotation = val_dataset[idx]\n",
    "\n",
    "        # Extract ground truth\n",
    "        gt_boxes, gt_classes = [], []\n",
    "        if 'object' in annotation['annotation']:\n",
    "            objects = annotation['annotation']['object']\n",
    "            if not isinstance(objects, list):\n",
    "                objects = [objects]\n",
    "\n",
    "            for obj in objects:\n",
    "                if obj['name'] in VOC_CLASSES:\n",
    "                    bbox = obj['bndbox']\n",
    "                    gt_boxes.append([float(bbox['xmin']), float(bbox['ymin']),\n",
    "                                   float(bbox['xmax']), float(bbox['ymax'])])\n",
    "                    gt_classes.append(VOC_CLASSES.index(obj['name']))\n",
    "\n",
    "        # Get predictions\n",
    "        results = model.predict(img, verbose=False, conf=0.5)\n",
    "        pred_boxes, pred_classes = [], []\n",
    "\n",
    "        if len(results) > 0 and results[0].boxes is not None:\n",
    "            pred_boxes = results[0].boxes.xyxy.cpu().numpy()\n",
    "            pred_classes = results[0].boxes.cls.cpu().numpy().astype(int)\n",
    "\n",
    "        # Match predictions to ground truth\n",
    "        matched_gt = set()\n",
    "        for pred_box, pred_class in zip(pred_boxes, pred_classes):\n",
    "            best_iou, best_gt_idx = 0, -1\n",
    "\n",
    "            for gt_idx, (gt_box, gt_class) in enumerate(zip(gt_boxes, gt_classes)):\n",
    "                if gt_idx in matched_gt or pred_class != gt_class:\n",
    "                    continue\n",
    "\n",
    "                iou = calculate_iou(pred_box, gt_box)\n",
    "                if iou > best_iou:\n",
    "                    best_iou, best_gt_idx = iou, gt_idx\n",
    "\n",
    "            if best_iou > 0.5:  # IoU threshold for match\n",
    "                tp += 1\n",
    "                ious.append(best_iou)\n",
    "                matched_gt.add(best_gt_idx)\n",
    "            else:\n",
    "                fp += 1\n",
    "\n",
    "        fn += len(gt_boxes) - len(matched_gt)\n",
    "\n",
    "    # Calculate metrics\n",
    "    precision = tp / (tp + fp) if (tp + fp) > 0 else 0\n",
    "    recall = tp / (tp + fn) if (tp + fn) > 0 else 0\n",
    "    f1_score = 2 * (precision * recall) / (precision + recall) if (precision + recall) > 0 else 0\n",
    "\n",
    "    # Object Detection Accuracy = TP / (TP + FP + FN)\n",
    "    accuracy = tp / (tp + fp + fn) if (tp + fp + fn) > 0 else 0\n",
    "\n",
    "    # Classification Accuracy (for correctly detected objects)\n",
    "    classification_accuracy = tp / (tp + fp) if (tp + fp) > 0 else 0\n",
    "\n",
    "    mean_iou = np.mean(ious) if ious else 0\n",
    "\n",
    "    return {\n",
    "        'detection_accuracy': accuracy,           # Overall detection accuracy\n",
    "        'classification_accuracy': classification_accuracy,  # Classification accuracy\n",
    "        'precision': precision,\n",
    "        'recall': recall,\n",
    "        'f1_score': f1_score,\n",
    "        'mean_iou': mean_iou,\n",
    "        'total_detections': len(ious)\n",
    "    }\n",
    "\n",
    "def plot_results(run_name='yolo_voc'):\n",
    "    \"\"\"Plot training metrics\"\"\"\n",
    "    results_path = f'runs/detect/{run_name}/results.csv'\n",
    "    if not os.path.exists(results_path):\n",
    "        print(\"Training results not found!\")\n",
    "        return\n",
    "\n",
    "    df = pd.read_csv(results_path)\n",
    "    df.columns = df.columns.str.strip()\n",
    "\n",
    "    fig, axes = plt.subplots(2, 2, figsize=(12, 8))\n",
    "\n",
    "    # Training Losses\n",
    "    axes[0,0].plot(df.get('train/box_loss', []), label='Box Loss', color='blue')\n",
    "    axes[0,0].plot(df.get('train/cls_loss', []), label='Class Loss', color='red')\n",
    "    axes[0,0].set_title('Training Losses')\n",
    "    axes[0,0].legend()\n",
    "    axes[0,0].grid(True)\n",
    "\n",
    "    # mAP Scores\n",
    "    axes[0,1].plot(df.get('metrics/mAP50(B)', []), label='mAP@0.5', color='green')\n",
    "    axes[0,1].plot(df.get('metrics/mAP50-95(B)', []), label='mAP@0.5:0.95', color='orange')\n",
    "    axes[0,1].set_title('Mean Average Precision')\n",
    "    axes[0,1].legend()\n",
    "    axes[0,1].grid(True)\n",
    "\n",
    "    # Precision & Recall\n",
    "    axes[1,0].plot(df.get('metrics/precision(B)', []), label='Precision', color='purple')\n",
    "    axes[1,0].plot(df.get('metrics/recall(B)', []), label='Recall', color='brown')\n",
    "    axes[1,0].set_title('Precision & Recall')\n",
    "    axes[1,0].legend()\n",
    "    axes[1,0].grid(True)\n",
    "\n",
    "    # F1 Score\n",
    "    if 'metrics/precision(B)' in df.columns and 'metrics/recall(B)' in df.columns:\n",
    "        precision = df['metrics/precision(B)']\n",
    "        recall = df['metrics/recall(B)']\n",
    "        f1 = 2 * (precision * recall) / (precision + recall)\n",
    "        f1 = f1.fillna(0)\n",
    "        axes[1,1].plot(f1, label='F1 Score', color='red')\n",
    "    axes[1,1].set_title('F1 Score')\n",
    "    axes[1,1].legend()\n",
    "    axes[1,1].grid(True)\n",
    "\n",
    "    plt.tight_layout()\n",
    "    plt.savefig('training_metrics.png', dpi=300, bbox_inches='tight')\n",
    "    plt.show()\n",
    "\n",
    "def main():\n",
    "    \"\"\"Main training function\"\"\"\n",
    "    print(\"YOLOv8 Object Detection Training\")\n",
    "    print(\"=\" * 40)\n",
    "\n",
    "    # Setup dataset\n",
    "    val_dataset = setup_voc_dataset()\n",
    "\n",
    "    # Load and train model\n",
    "    print(\"\\nTraining YOLOv8 model...\")\n",
    "    model = YOLO('yolov8n.pt')\n",
    "\n",
    "    # Optimized training parameters\n",
    "    results = model.train(\n",
    "        data='voc_config.yaml',\n",
    "        name='yolo_voc',\n",
    "        epochs=50,                # Reduced for faster training\n",
    "        batch=16,\n",
    "        imgsz=640,\n",
    "        lr0=0.01,\n",
    "        device=device,\n",
    "        patience=10,\n",
    "        save_period=10\n",
    "    )\n",
    "\n",
    "    # Validate model\n",
    "    print(\"\\nValidating model...\")\n",
    "    val_results = model.val(data='voc_config.yaml')\n",
    "\n",
    "    # Calculate detailed accuracy metrics\n",
    "    print(\"\\nCalculating accuracy metrics...\")\n",
    "    accuracy_metrics = evaluate_accuracy(model, val_dataset, num_samples=300)\n",
    "\n",
    "    # Print results\n",
    "    print(\"\\n\" + \"=\" * 50)\n",
    "    print(\"FINAL RESULTS\")\n",
    "    print(\"=\" * 50)\n",
    "    print(f\"mAP@0.5:         {val_results.box.map50:.4f}\")\n",
    "    print(f\"mAP@0.5:0.95:    {val_results.box.map:.4f}\")\n",
    "    print(f\"Detection Accuracy:      {accuracy_metrics['detection_accuracy']:.4f}\")\n",
    "    print(f\"Classification Accuracy: {accuracy_metrics['classification_accuracy']:.4f}\")\n",
    "    print(f\"Precision:       {accuracy_metrics['precision']:.4f}\")\n",
    "    print(f\"Recall:          {accuracy_metrics['recall']:.4f}\")\n",
    "    print(f\"F1 Score:        {accuracy_metrics['f1_score']:.4f}\")\n",
    "    print(f\"Mean IoU:        {accuracy_metrics['mean_iou']:.4f}\")\n",
    "    print(\"=\" * 50)\n",
    "\n",
    "    # Plot results\n",
    "    plot_results('yolo_voc')\n",
    "\n",
    "    # Save model\n",
    "    model.save('yolo_voc_final.pt')\n",
    "    print(\"\\nModel saved as 'yolo_voc_final.pt'\")\n",
    "\n",
    "if __name__ == \"__main__\":\n",
    "    main()"
   ],
   "metadata": {
    "colab": {
     "base_uri": "https://localhost:8080/",
     "height": 1000
    },
    "id": "DSmFEK1wPV-7",
    "outputId": "3f63b89b-4c1d-46cc-fc9d-4234efe7a39a"
   },
   "execution_count": 1,
   "outputs": [
    {
     "output_type": "stream",
     "name": "stdout",
     "text": [
      "Collecting ultralytics\n",
      "  Downloading ultralytics-8.3.145-py3-none-any.whl.metadata (37 kB)\n",
      "Requirement already satisfied: matplotlib in /usr/local/lib/python3.11/dist-packages (3.10.0)\n",
      "Requirement already satisfied: pandas in /usr/local/lib/python3.11/dist-packages (2.2.2)\n",
      "Requirement already satisfied: numpy>=1.23.0 in /usr/local/lib/python3.11/dist-packages (from ultralytics) (2.0.2)\n",
      "Requirement already satisfied: opencv-python>=4.6.0 in /usr/local/lib/python3.11/dist-packages (from ultralytics) (4.11.0.86)\n",
      "Requirement already satisfied: pillow>=7.1.2 in /usr/local/lib/python3.11/dist-packages (from ultralytics) (11.2.1)\n",
      "Requirement already satisfied: pyyaml>=5.3.1 in /usr/local/lib/python3.11/dist-packages (from ultralytics) (6.0.2)\n",
      "Requirement already satisfied: requests>=2.23.0 in /usr/local/lib/python3.11/dist-packages (from ultralytics) (2.32.3)\n",
      "Requirement already satisfied: scipy>=1.4.1 in /usr/local/lib/python3.11/dist-packages (from ultralytics) (1.15.3)\n",
      "Requirement already satisfied: torch>=1.8.0 in /usr/local/lib/python3.11/dist-packages (from ultralytics) (2.6.0+cu124)\n",
      "Requirement already satisfied: torchvision>=0.9.0 in /usr/local/lib/python3.11/dist-packages (from ultralytics) (0.21.0+cu124)\n",
      "Requirement already satisfied: tqdm>=4.64.0 in /usr/local/lib/python3.11/dist-packages (from ultralytics) (4.67.1)\n",
      "Requirement already satisfied: psutil in /usr/local/lib/python3.11/dist-packages (from ultralytics) (5.9.5)\n",
      "Requirement already satisfied: py-cpuinfo in /usr/local/lib/python3.11/dist-packages (from ultralytics) (9.0.0)\n",
      "Collecting ultralytics-thop>=2.0.0 (from ultralytics)\n",
      "  Downloading ultralytics_thop-2.0.14-py3-none-any.whl.metadata (9.4 kB)\n",
      "Requirement already satisfied: contourpy>=1.0.1 in /usr/local/lib/python3.11/dist-packages (from matplotlib) (1.3.2)\n",
      "Requirement already satisfied: cycler>=0.10 in /usr/local/lib/python3.11/dist-packages (from matplotlib) (0.12.1)\n",
      "Requirement already satisfied: fonttools>=4.22.0 in /usr/local/lib/python3.11/dist-packages (from matplotlib) (4.58.0)\n",
      "Requirement already satisfied: kiwisolver>=1.3.1 in /usr/local/lib/python3.11/dist-packages (from matplotlib) (1.4.8)\n",
      "Requirement already satisfied: packaging>=20.0 in /usr/local/lib/python3.11/dist-packages (from matplotlib) (24.2)\n",
      "Requirement already satisfied: pyparsing>=2.3.1 in /usr/local/lib/python3.11/dist-packages (from matplotlib) (3.2.3)\n",
      "Requirement already satisfied: python-dateutil>=2.7 in /usr/local/lib/python3.11/dist-packages (from matplotlib) (2.9.0.post0)\n",
      "Requirement already satisfied: pytz>=2020.1 in /usr/local/lib/python3.11/dist-packages (from pandas) (2025.2)\n",
      "Requirement already satisfied: tzdata>=2022.7 in /usr/local/lib/python3.11/dist-packages (from pandas) (2025.2)\n",
      "Requirement already satisfied: six>=1.5 in /usr/local/lib/python3.11/dist-packages (from python-dateutil>=2.7->matplotlib) (1.17.0)\n",
      "Requirement already satisfied: charset-normalizer<4,>=2 in /usr/local/lib/python3.11/dist-packages (from requests>=2.23.0->ultralytics) (3.4.2)\n",
      "Requirement already satisfied: idna<4,>=2.5 in /usr/local/lib/python3.11/dist-packages (from requests>=2.23.0->ultralytics) (3.10)\n",
      "Requirement already satisfied: urllib3<3,>=1.21.1 in /usr/local/lib/python3.11/dist-packages (from requests>=2.23.0->ultralytics) (2.4.0)\n",
      "Requirement already satisfied: certifi>=2017.4.17 in /usr/local/lib/python3.11/dist-packages (from requests>=2.23.0->ultralytics) (2025.4.26)\n",
      "Requirement already satisfied: filelock in /usr/local/lib/python3.11/dist-packages (from torch>=1.8.0->ultralytics) (3.18.0)\n",
      "Requirement already satisfied: typing-extensions>=4.10.0 in /usr/local/lib/python3.11/dist-packages (from torch>=1.8.0->ultralytics) (4.13.2)\n",
      "Requirement already satisfied: networkx in /usr/local/lib/python3.11/dist-packages (from torch>=1.8.0->ultralytics) (3.4.2)\n",
      "Requirement already satisfied: jinja2 in /usr/local/lib/python3.11/dist-packages (from torch>=1.8.0->ultralytics) (3.1.6)\n",
      "Requirement already satisfied: fsspec in /usr/local/lib/python3.11/dist-packages (from torch>=1.8.0->ultralytics) (2025.3.2)\n",
      "Collecting nvidia-cuda-nvrtc-cu12==12.4.127 (from torch>=1.8.0->ultralytics)\n",
      "  Downloading nvidia_cuda_nvrtc_cu12-12.4.127-py3-none-manylinux2014_x86_64.whl.metadata (1.5 kB)\n",
      "Collecting nvidia-cuda-runtime-cu12==12.4.127 (from torch>=1.8.0->ultralytics)\n",
      "  Downloading nvidia_cuda_runtime_cu12-12.4.127-py3-none-manylinux2014_x86_64.whl.metadata (1.5 kB)\n",
      "Collecting nvidia-cuda-cupti-cu12==12.4.127 (from torch>=1.8.0->ultralytics)\n",
      "  Downloading nvidia_cuda_cupti_cu12-12.4.127-py3-none-manylinux2014_x86_64.whl.metadata (1.6 kB)\n",
      "Collecting nvidia-cudnn-cu12==9.1.0.70 (from torch>=1.8.0->ultralytics)\n",
      "  Downloading nvidia_cudnn_cu12-9.1.0.70-py3-none-manylinux2014_x86_64.whl.metadata (1.6 kB)\n",
      "Collecting nvidia-cublas-cu12==12.4.5.8 (from torch>=1.8.0->ultralytics)\n",
      "  Downloading nvidia_cublas_cu12-12.4.5.8-py3-none-manylinux2014_x86_64.whl.metadata (1.5 kB)\n",
      "Collecting nvidia-cufft-cu12==11.2.1.3 (from torch>=1.8.0->ultralytics)\n",
      "  Downloading nvidia_cufft_cu12-11.2.1.3-py3-none-manylinux2014_x86_64.whl.metadata (1.5 kB)\n",
      "Collecting nvidia-curand-cu12==10.3.5.147 (from torch>=1.8.0->ultralytics)\n",
      "  Downloading nvidia_curand_cu12-10.3.5.147-py3-none-manylinux2014_x86_64.whl.metadata (1.5 kB)\n",
      "Collecting nvidia-cusolver-cu12==11.6.1.9 (from torch>=1.8.0->ultralytics)\n",
      "  Downloading nvidia_cusolver_cu12-11.6.1.9-py3-none-manylinux2014_x86_64.whl.metadata (1.6 kB)\n",
      "Collecting nvidia-cusparse-cu12==12.3.1.170 (from torch>=1.8.0->ultralytics)\n",
      "  Downloading nvidia_cusparse_cu12-12.3.1.170-py3-none-manylinux2014_x86_64.whl.metadata (1.6 kB)\n",
      "Requirement already satisfied: nvidia-cusparselt-cu12==0.6.2 in /usr/local/lib/python3.11/dist-packages (from torch>=1.8.0->ultralytics) (0.6.2)\n",
      "Requirement already satisfied: nvidia-nccl-cu12==2.21.5 in /usr/local/lib/python3.11/dist-packages (from torch>=1.8.0->ultralytics) (2.21.5)\n",
      "Requirement already satisfied: nvidia-nvtx-cu12==12.4.127 in /usr/local/lib/python3.11/dist-packages (from torch>=1.8.0->ultralytics) (12.4.127)\n",
      "Collecting nvidia-nvjitlink-cu12==12.4.127 (from torch>=1.8.0->ultralytics)\n",
      "  Downloading nvidia_nvjitlink_cu12-12.4.127-py3-none-manylinux2014_x86_64.whl.metadata (1.5 kB)\n",
      "Requirement already satisfied: triton==3.2.0 in /usr/local/lib/python3.11/dist-packages (from torch>=1.8.0->ultralytics) (3.2.0)\n",
      "Requirement already satisfied: sympy==1.13.1 in /usr/local/lib/python3.11/dist-packages (from torch>=1.8.0->ultralytics) (1.13.1)\n",
      "Requirement already satisfied: mpmath<1.4,>=1.1.0 in /usr/local/lib/python3.11/dist-packages (from sympy==1.13.1->torch>=1.8.0->ultralytics) (1.3.0)\n",
      "Requirement already satisfied: MarkupSafe>=2.0 in /usr/local/lib/python3.11/dist-packages (from jinja2->torch>=1.8.0->ultralytics) (3.0.2)\n",
      "Downloading ultralytics-8.3.145-py3-none-any.whl (1.0 MB)\n",
      "\u001B[2K   \u001B[90m━━━━━━━━━━━━━━━━━━━━━━━━━━━━━━━━━━━━━━━━\u001B[0m \u001B[32m1.0/1.0 MB\u001B[0m \u001B[31m22.3 MB/s\u001B[0m eta \u001B[36m0:00:00\u001B[0m\n",
      "\u001B[?25hDownloading nvidia_cublas_cu12-12.4.5.8-py3-none-manylinux2014_x86_64.whl (363.4 MB)\n",
      "\u001B[2K   \u001B[90m━━━━━━━━━━━━━━━━━━━━━━━━━━━━━━━━━━━━━━━━\u001B[0m \u001B[32m363.4/363.4 MB\u001B[0m \u001B[31m4.1 MB/s\u001B[0m eta \u001B[36m0:00:00\u001B[0m\n",
      "\u001B[?25hDownloading nvidia_cuda_cupti_cu12-12.4.127-py3-none-manylinux2014_x86_64.whl (13.8 MB)\n",
      "\u001B[2K   \u001B[90m━━━━━━━━━━━━━━━━━━━━━━━━━━━━━━━━━━━━━━━━\u001B[0m \u001B[32m13.8/13.8 MB\u001B[0m \u001B[31m74.0 MB/s\u001B[0m eta \u001B[36m0:00:00\u001B[0m\n",
      "\u001B[?25hDownloading nvidia_cuda_nvrtc_cu12-12.4.127-py3-none-manylinux2014_x86_64.whl (24.6 MB)\n",
      "\u001B[2K   \u001B[90m━━━━━━━━━━━━━━━━━━━━━━━━━━━━━━━━━━━━━━━━\u001B[0m \u001B[32m24.6/24.6 MB\u001B[0m \u001B[31m63.9 MB/s\u001B[0m eta \u001B[36m0:00:00\u001B[0m\n",
      "\u001B[?25hDownloading nvidia_cuda_runtime_cu12-12.4.127-py3-none-manylinux2014_x86_64.whl (883 kB)\n",
      "\u001B[2K   \u001B[90m━━━━━━━━━━━━━━━━━━━━━━━━━━━━━━━━━━━━━━━━\u001B[0m \u001B[32m883.7/883.7 kB\u001B[0m \u001B[31m45.1 MB/s\u001B[0m eta \u001B[36m0:00:00\u001B[0m\n",
      "\u001B[?25hDownloading nvidia_cudnn_cu12-9.1.0.70-py3-none-manylinux2014_x86_64.whl (664.8 MB)\n",
      "\u001B[2K   \u001B[90m━━━━━━━━━━━━━━━━━━━━━━━━━━━━━━━━━━━━━━━━\u001B[0m \u001B[32m664.8/664.8 MB\u001B[0m \u001B[31m1.6 MB/s\u001B[0m eta \u001B[36m0:00:00\u001B[0m\n",
      "\u001B[?25hDownloading nvidia_cufft_cu12-11.2.1.3-py3-none-manylinux2014_x86_64.whl (211.5 MB)\n",
      "\u001B[2K   \u001B[90m━━━━━━━━━━━━━━━━━━━━━━━━━━━━━━━━━━━━━━━━\u001B[0m \u001B[32m211.5/211.5 MB\u001B[0m \u001B[31m5.9 MB/s\u001B[0m eta \u001B[36m0:00:00\u001B[0m\n",
      "\u001B[?25hDownloading nvidia_curand_cu12-10.3.5.147-py3-none-manylinux2014_x86_64.whl (56.3 MB)\n",
      "\u001B[2K   \u001B[90m━━━━━━━━━━━━━━━━━━━━━━━━━━━━━━━━━━━━━━━━\u001B[0m \u001B[32m56.3/56.3 MB\u001B[0m \u001B[31m10.8 MB/s\u001B[0m eta \u001B[36m0:00:00\u001B[0m\n",
      "\u001B[?25hDownloading nvidia_cusolver_cu12-11.6.1.9-py3-none-manylinux2014_x86_64.whl (127.9 MB)\n",
      "\u001B[2K   \u001B[90m━━━━━━━━━━━━━━━━━━━━━━━━━━━━━━━━━━━━━━━━\u001B[0m \u001B[32m127.9/127.9 MB\u001B[0m \u001B[31m9.8 MB/s\u001B[0m eta \u001B[36m0:00:00\u001B[0m\n",
      "\u001B[?25hDownloading nvidia_cusparse_cu12-12.3.1.170-py3-none-manylinux2014_x86_64.whl (207.5 MB)\n",
      "\u001B[2K   \u001B[90m━━━━━━━━━━━━━━━━━━━━━━━━━━━━━━━━━━━━━━━━\u001B[0m \u001B[32m207.5/207.5 MB\u001B[0m \u001B[31m6.0 MB/s\u001B[0m eta \u001B[36m0:00:00\u001B[0m\n",
      "\u001B[?25hDownloading nvidia_nvjitlink_cu12-12.4.127-py3-none-manylinux2014_x86_64.whl (21.1 MB)\n",
      "\u001B[2K   \u001B[90m━━━━━━━━━━━━━━━━━━━━━━━━━━━━━━━━━━━━━━━━\u001B[0m \u001B[32m21.1/21.1 MB\u001B[0m \u001B[31m52.0 MB/s\u001B[0m eta \u001B[36m0:00:00\u001B[0m\n",
      "\u001B[?25hDownloading ultralytics_thop-2.0.14-py3-none-any.whl (26 kB)\n",
      "Installing collected packages: nvidia-nvjitlink-cu12, nvidia-curand-cu12, nvidia-cufft-cu12, nvidia-cuda-runtime-cu12, nvidia-cuda-nvrtc-cu12, nvidia-cuda-cupti-cu12, nvidia-cublas-cu12, nvidia-cusparse-cu12, nvidia-cudnn-cu12, nvidia-cusolver-cu12, ultralytics-thop, ultralytics\n",
      "  Attempting uninstall: nvidia-nvjitlink-cu12\n",
      "    Found existing installation: nvidia-nvjitlink-cu12 12.5.82\n",
      "    Uninstalling nvidia-nvjitlink-cu12-12.5.82:\n",
      "      Successfully uninstalled nvidia-nvjitlink-cu12-12.5.82\n",
      "  Attempting uninstall: nvidia-curand-cu12\n",
      "    Found existing installation: nvidia-curand-cu12 10.3.6.82\n",
      "    Uninstalling nvidia-curand-cu12-10.3.6.82:\n",
      "      Successfully uninstalled nvidia-curand-cu12-10.3.6.82\n",
      "  Attempting uninstall: nvidia-cufft-cu12\n",
      "    Found existing installation: nvidia-cufft-cu12 11.2.3.61\n",
      "    Uninstalling nvidia-cufft-cu12-11.2.3.61:\n",
      "      Successfully uninstalled nvidia-cufft-cu12-11.2.3.61\n",
      "  Attempting uninstall: nvidia-cuda-runtime-cu12\n",
      "    Found existing installation: nvidia-cuda-runtime-cu12 12.5.82\n",
      "    Uninstalling nvidia-cuda-runtime-cu12-12.5.82:\n",
      "      Successfully uninstalled nvidia-cuda-runtime-cu12-12.5.82\n",
      "  Attempting uninstall: nvidia-cuda-nvrtc-cu12\n",
      "    Found existing installation: nvidia-cuda-nvrtc-cu12 12.5.82\n",
      "    Uninstalling nvidia-cuda-nvrtc-cu12-12.5.82:\n",
      "      Successfully uninstalled nvidia-cuda-nvrtc-cu12-12.5.82\n",
      "  Attempting uninstall: nvidia-cuda-cupti-cu12\n",
      "    Found existing installation: nvidia-cuda-cupti-cu12 12.5.82\n",
      "    Uninstalling nvidia-cuda-cupti-cu12-12.5.82:\n",
      "      Successfully uninstalled nvidia-cuda-cupti-cu12-12.5.82\n",
      "  Attempting uninstall: nvidia-cublas-cu12\n",
      "    Found existing installation: nvidia-cublas-cu12 12.5.3.2\n",
      "    Uninstalling nvidia-cublas-cu12-12.5.3.2:\n",
      "      Successfully uninstalled nvidia-cublas-cu12-12.5.3.2\n",
      "  Attempting uninstall: nvidia-cusparse-cu12\n",
      "    Found existing installation: nvidia-cusparse-cu12 12.5.1.3\n",
      "    Uninstalling nvidia-cusparse-cu12-12.5.1.3:\n",
      "      Successfully uninstalled nvidia-cusparse-cu12-12.5.1.3\n",
      "  Attempting uninstall: nvidia-cudnn-cu12\n",
      "    Found existing installation: nvidia-cudnn-cu12 9.3.0.75\n",
      "    Uninstalling nvidia-cudnn-cu12-9.3.0.75:\n",
      "      Successfully uninstalled nvidia-cudnn-cu12-9.3.0.75\n",
      "  Attempting uninstall: nvidia-cusolver-cu12\n",
      "    Found existing installation: nvidia-cusolver-cu12 11.6.3.83\n",
      "    Uninstalling nvidia-cusolver-cu12-11.6.3.83:\n",
      "      Successfully uninstalled nvidia-cusolver-cu12-11.6.3.83\n",
      "Successfully installed nvidia-cublas-cu12-12.4.5.8 nvidia-cuda-cupti-cu12-12.4.127 nvidia-cuda-nvrtc-cu12-12.4.127 nvidia-cuda-runtime-cu12-12.4.127 nvidia-cudnn-cu12-9.1.0.70 nvidia-cufft-cu12-11.2.1.3 nvidia-curand-cu12-10.3.5.147 nvidia-cusolver-cu12-11.6.1.9 nvidia-cusparse-cu12-12.3.1.170 nvidia-nvjitlink-cu12-12.4.127 ultralytics-8.3.145 ultralytics-thop-2.0.14\n",
      "Creating new Ultralytics Settings v0.0.6 file ✅ \n",
      "View Ultralytics Settings with 'yolo settings' or at '/root/.config/Ultralytics/settings.json'\n",
      "Update Settings with 'yolo settings key=value', i.e. 'yolo settings runs_dir=path/to/dir'. For help see https://docs.ultralytics.com/quickstart/#ultralytics-settings.\n",
      "Using device: cuda\n",
      "YOLOv8 Object Detection Training\n",
      "========================================\n",
      "Setting up Pascal VOC dataset...\n"
     ]
    },
    {
     "output_type": "stream",
     "name": "stderr",
     "text": [
      "100%|██████████| 2.00G/2.00G [01:22<00:00, 24.1MB/s]\n"
     ]
    },
    {
     "output_type": "stream",
     "name": "stdout",
     "text": [
      "Converting train dataset...\n",
      "Processed 0/5717 images\n",
      "Processed 1000/5717 images\n",
      "Processed 2000/5717 images\n",
      "Processed 3000/5717 images\n",
      "Processed 4000/5717 images\n",
      "Processed 5000/5717 images\n",
      "Converting val dataset...\n",
      "Processed 0/5823 images\n",
      "Processed 1000/5823 images\n",
      "Processed 2000/5823 images\n",
      "Processed 3000/5823 images\n",
      "Processed 4000/5823 images\n",
      "Processed 5000/5823 images\n",
      "Dataset ready: 5717 train, 5823 val images\n",
      "\n",
      "Training YOLOv8 model...\n",
      "Downloading https://github.com/ultralytics/assets/releases/download/v8.3.0/yolov8n.pt to 'yolov8n.pt'...\n"
     ]
    },
    {
     "output_type": "stream",
     "name": "stderr",
     "text": [
      "100%|██████████| 6.25M/6.25M [00:00<00:00, 106MB/s]\n"
     ]
    },
    {
     "output_type": "stream",
     "name": "stdout",
     "text": [
      "Ultralytics 8.3.145 🚀 Python-3.11.12 torch-2.6.0+cu124 CUDA:0 (Tesla T4, 15095MiB)\n",
      "\u001B[34m\u001B[1mengine/trainer: \u001B[0magnostic_nms=False, amp=True, augment=False, auto_augment=randaugment, batch=16, bgr=0.0, box=7.5, cache=False, cfg=None, classes=None, close_mosaic=10, cls=0.5, conf=None, copy_paste=0.0, copy_paste_mode=flip, cos_lr=False, cutmix=0.0, data=voc_config.yaml, degrees=0.0, deterministic=True, device=0, dfl=1.5, dnn=False, dropout=0.0, dynamic=False, embed=None, epochs=50, erasing=0.4, exist_ok=False, fliplr=0.5, flipud=0.0, format=torchscript, fraction=1.0, freeze=None, half=False, hsv_h=0.015, hsv_s=0.7, hsv_v=0.4, imgsz=640, int8=False, iou=0.7, keras=False, kobj=1.0, line_width=None, lr0=0.01, lrf=0.01, mask_ratio=4, max_det=300, mixup=0.0, mode=train, model=yolov8n.pt, momentum=0.937, mosaic=1.0, multi_scale=False, name=yolo_voc, nbs=64, nms=False, opset=None, optimize=False, optimizer=auto, overlap_mask=True, patience=10, perspective=0.0, plots=True, pose=12.0, pretrained=True, profile=False, project=None, rect=False, resume=False, retina_masks=False, save=True, save_conf=False, save_crop=False, save_dir=runs/detect/yolo_voc, save_frames=False, save_json=False, save_period=10, save_txt=False, scale=0.5, seed=0, shear=0.0, show=False, show_boxes=True, show_conf=True, show_labels=True, simplify=True, single_cls=False, source=None, split=val, stream_buffer=False, task=detect, time=None, tracker=botsort.yaml, translate=0.1, val=True, verbose=True, vid_stride=1, visualize=False, warmup_bias_lr=0.1, warmup_epochs=3.0, warmup_momentum=0.8, weight_decay=0.0005, workers=8, workspace=None\n",
      "Downloading https://ultralytics.com/assets/Arial.ttf to '/root/.config/Ultralytics/Arial.ttf'...\n"
     ]
    },
    {
     "output_type": "stream",
     "name": "stderr",
     "text": [
      "100%|██████████| 755k/755k [00:00<00:00, 24.4MB/s]"
     ]
    },
    {
     "output_type": "stream",
     "name": "stdout",
     "text": [
      "Overriding model.yaml nc=80 with nc=20\n",
      "\n",
      "                   from  n    params  module                                       arguments                     \n",
      "  0                  -1  1       464  ultralytics.nn.modules.conv.Conv             [3, 16, 3, 2]                 \n",
      "  1                  -1  1      4672  ultralytics.nn.modules.conv.Conv             [16, 32, 3, 2]                \n",
      "  2                  -1  1      7360  ultralytics.nn.modules.block.C2f             [32, 32, 1, True]             \n",
      "  3                  -1  1     18560  ultralytics.nn.modules.conv.Conv             [32, 64, 3, 2]                \n",
      "  4                  -1  2     49664  ultralytics.nn.modules.block.C2f             [64, 64, 2, True]             \n",
      "  5                  -1  1     73984  ultralytics.nn.modules.conv.Conv             [64, 128, 3, 2]               \n",
      "  6                  -1  2    197632  ultralytics.nn.modules.block.C2f             [128, 128, 2, True]           \n",
      "  7                  -1  1    295424  ultralytics.nn.modules.conv.Conv             [128, 256, 3, 2]              \n",
      "  8                  -1  1    460288  ultralytics.nn.modules.block.C2f             [256, 256, 1, True]           \n",
      "  9                  -1  1    164608  ultralytics.nn.modules.block.SPPF            [256, 256, 5]                 \n",
      " 10                  -1  1         0  torch.nn.modules.upsampling.Upsample         [None, 2, 'nearest']          \n",
      " 11             [-1, 6]  1         0  ultralytics.nn.modules.conv.Concat           [1]                           \n",
      " 12                  -1  1    148224  ultralytics.nn.modules.block.C2f             [384, 128, 1]                 \n",
      " 13                  -1  1         0  torch.nn.modules.upsampling.Upsample         [None, 2, 'nearest']          \n",
      " 14             [-1, 4]  1         0  ultralytics.nn.modules.conv.Concat           [1]                           \n",
      " 15                  -1  1     37248  ultralytics.nn.modules.block.C2f             [192, 64, 1]                  \n",
      " 16                  -1  1     36992  ultralytics.nn.modules.conv.Conv             [64, 64, 3, 2]                \n",
      " 17            [-1, 12]  1         0  ultralytics.nn.modules.conv.Concat           [1]                           \n",
      " 18                  -1  1    123648  ultralytics.nn.modules.block.C2f             [192, 128, 1]                 \n",
      " 19                  -1  1    147712  ultralytics.nn.modules.conv.Conv             [128, 128, 3, 2]              \n",
      " 20             [-1, 9]  1         0  ultralytics.nn.modules.conv.Concat           [1]                           \n",
      " 21                  -1  1    493056  ultralytics.nn.modules.block.C2f             [384, 256, 1]                 \n",
      " 22        [15, 18, 21]  1    755212  ultralytics.nn.modules.head.Detect           [20, [64, 128, 256]]          \n"
     ]
    },
    {
     "output_type": "stream",
     "name": "stderr",
     "text": [
      "\n"
     ]
    },
    {
     "output_type": "stream",
     "name": "stdout",
     "text": [
      "Model summary: 129 layers, 3,014,748 parameters, 3,014,732 gradients, 8.2 GFLOPs\n",
      "\n",
      "Transferred 319/355 items from pretrained weights\n",
      "Freezing layer 'model.22.dfl.conv.weight'\n",
      "\u001B[34m\u001B[1mAMP: \u001B[0mrunning Automatic Mixed Precision (AMP) checks...\n",
      "Downloading https://github.com/ultralytics/assets/releases/download/v8.3.0/yolo11n.pt to 'yolo11n.pt'...\n"
     ]
    },
    {
     "output_type": "stream",
     "name": "stderr",
     "text": [
      "100%|██████████| 5.35M/5.35M [00:00<00:00, 83.6MB/s]\n"
     ]
    },
    {
     "output_type": "stream",
     "name": "stdout",
     "text": [
      "\u001B[34m\u001B[1mAMP: \u001B[0mchecks passed ✅\n",
      "\u001B[34m\u001B[1mtrain: \u001B[0mFast image access ✅ (ping: 0.0±0.0 ms, read: 1232.3±614.2 MB/s, size: 31.1 KB)\n"
     ]
    },
    {
     "output_type": "stream",
     "name": "stderr",
     "text": [
      "\u001B[34m\u001B[1mtrain: \u001B[0mScanning /content/datasets/VOC/train/labels... 5717 images, 0 backgrounds, 0 corrupt: 100%|██████████| 5717/5717 [00:02<00:00, 2415.53it/s]\n"
     ]
    },
    {
     "output_type": "stream",
     "name": "stdout",
     "text": [
      "\u001B[34m\u001B[1mtrain: \u001B[0mNew cache created: /content/datasets/VOC/train/labels.cache\n",
      "\u001B[34m\u001B[1malbumentations: \u001B[0mBlur(p=0.01, blur_limit=(3, 7)), MedianBlur(p=0.01, blur_limit=(3, 7)), ToGray(p=0.01, method='weighted_average', num_output_channels=3), CLAHE(p=0.01, clip_limit=(1.0, 4.0), tile_grid_size=(8, 8))\n",
      "\u001B[34m\u001B[1mval: \u001B[0mFast image access ✅ (ping: 0.0±0.0 ms, read: 1085.2±576.4 MB/s, size: 31.9 KB)\n"
     ]
    },
    {
     "output_type": "stream",
     "name": "stderr",
     "text": [
      "\u001B[34m\u001B[1mval: \u001B[0mScanning /content/datasets/VOC/val/labels... 5823 images, 0 backgrounds, 0 corrupt: 100%|██████████| 5823/5823 [00:03<00:00, 1728.66it/s]\n"
     ]
    },
    {
     "output_type": "stream",
     "name": "stdout",
     "text": [
      "\u001B[34m\u001B[1mval: \u001B[0mNew cache created: /content/datasets/VOC/val/labels.cache\n",
      "Plotting labels to runs/detect/yolo_voc/labels.jpg... \n",
      "\u001B[34m\u001B[1moptimizer:\u001B[0m 'optimizer=auto' found, ignoring 'lr0=0.01' and 'momentum=0.937' and determining best 'optimizer', 'lr0' and 'momentum' automatically... \n",
      "\u001B[34m\u001B[1moptimizer:\u001B[0m AdamW(lr=0.000417, momentum=0.9) with parameter groups 57 weight(decay=0.0), 64 weight(decay=0.0005), 63 bias(decay=0.0)\n",
      "Image sizes 640 train, 640 val\n",
      "Using 2 dataloader workers\n",
      "Logging results to \u001B[1mruns/detect/yolo_voc\u001B[0m\n",
      "Starting training for 50 epochs...\n",
      "\n",
      "      Epoch    GPU_mem   box_loss   cls_loss   dfl_loss  Instances       Size\n"
     ]
    },
    {
     "output_type": "stream",
     "name": "stderr",
     "text": [
      "       1/50      2.26G      1.026      2.808       1.29         28        640: 100%|██████████| 358/358 [01:38<00:00,  3.62it/s]\n",
      "                 Class     Images  Instances      Box(P          R      mAP50  mAP50-95): 100%|██████████| 182/182 [00:45<00:00,  3.99it/s]\n"
     ]
    },
    {
     "output_type": "stream",
     "name": "stdout",
     "text": [
      "                   all       5823      15787      0.626      0.563      0.583      0.403\n",
      "\n",
      "      Epoch    GPU_mem   box_loss   cls_loss   dfl_loss  Instances       Size\n"
     ]
    },
    {
     "output_type": "stream",
     "name": "stderr",
     "text": [
      "       2/50      3.39G      1.085      1.998      1.343         31        640: 100%|██████████| 358/358 [01:34<00:00,  3.80it/s]\n",
      "                 Class     Images  Instances      Box(P          R      mAP50  mAP50-95): 100%|██████████| 182/182 [00:44<00:00,  4.11it/s]\n"
     ]
    },
    {
     "output_type": "stream",
     "name": "stdout",
     "text": [
      "                   all       5823      15787      0.607      0.511      0.538      0.352\n",
      "\n",
      "      Epoch    GPU_mem   box_loss   cls_loss   dfl_loss  Instances       Size\n"
     ]
    },
    {
     "output_type": "stream",
     "name": "stderr",
     "text": [
      "       3/50      3.42G      1.122      1.967      1.373         25        640: 100%|██████████| 358/358 [01:33<00:00,  3.84it/s]\n",
      "                 Class     Images  Instances      Box(P          R      mAP50  mAP50-95): 100%|██████████| 182/182 [00:43<00:00,  4.14it/s]\n"
     ]
    },
    {
     "output_type": "stream",
     "name": "stdout",
     "text": [
      "                   all       5823      15787      0.573       0.52      0.535      0.351\n",
      "\n",
      "      Epoch    GPU_mem   box_loss   cls_loss   dfl_loss  Instances       Size\n"
     ]
    },
    {
     "output_type": "stream",
     "name": "stderr",
     "text": [
      "       4/50      3.43G      1.119      1.883      1.364         21        640: 100%|██████████| 358/358 [01:33<00:00,  3.85it/s]\n",
      "                 Class     Images  Instances      Box(P          R      mAP50  mAP50-95): 100%|██████████| 182/182 [00:44<00:00,  4.11it/s]\n"
     ]
    },
    {
     "output_type": "stream",
     "name": "stdout",
     "text": [
      "                   all       5823      15787      0.603      0.505      0.548       0.36\n",
      "\n",
      "      Epoch    GPU_mem   box_loss   cls_loss   dfl_loss  Instances       Size\n"
     ]
    },
    {
     "output_type": "stream",
     "name": "stderr",
     "text": [
      "       5/50      3.45G      1.116       1.83      1.359         28        640: 100%|██████████| 358/358 [01:32<00:00,  3.86it/s]\n",
      "                 Class     Images  Instances      Box(P          R      mAP50  mAP50-95): 100%|██████████| 182/182 [00:43<00:00,  4.21it/s]\n"
     ]
    },
    {
     "output_type": "stream",
     "name": "stdout",
     "text": [
      "                   all       5823      15787      0.642      0.532      0.568      0.363\n",
      "\n",
      "      Epoch    GPU_mem   box_loss   cls_loss   dfl_loss  Instances       Size\n"
     ]
    },
    {
     "output_type": "stream",
     "name": "stderr",
     "text": [
      "       6/50      3.47G      1.101      1.747      1.352         21        640: 100%|██████████| 358/358 [01:33<00:00,  3.84it/s]\n",
      "                 Class     Images  Instances      Box(P          R      mAP50  mAP50-95): 100%|██████████| 182/182 [00:43<00:00,  4.23it/s]\n"
     ]
    },
    {
     "output_type": "stream",
     "name": "stdout",
     "text": [
      "                   all       5823      15787       0.64      0.542      0.579      0.382\n",
      "\n",
      "      Epoch    GPU_mem   box_loss   cls_loss   dfl_loss  Instances       Size\n"
     ]
    },
    {
     "output_type": "stream",
     "name": "stderr",
     "text": [
      "       7/50      3.48G       1.09      1.685      1.344         35        640: 100%|██████████| 358/358 [01:32<00:00,  3.87it/s]\n",
      "                 Class     Images  Instances      Box(P          R      mAP50  mAP50-95): 100%|██████████| 182/182 [00:43<00:00,  4.16it/s]\n"
     ]
    },
    {
     "output_type": "stream",
     "name": "stdout",
     "text": [
      "                   all       5823      15787      0.663       0.56      0.609      0.407\n",
      "\n",
      "      Epoch    GPU_mem   box_loss   cls_loss   dfl_loss  Instances       Size\n"
     ]
    },
    {
     "output_type": "stream",
     "name": "stderr",
     "text": [
      "       8/50      3.49G      1.083      1.622      1.333         28        640: 100%|██████████| 358/358 [01:32<00:00,  3.88it/s]\n",
      "                 Class     Images  Instances      Box(P          R      mAP50  mAP50-95): 100%|██████████| 182/182 [00:43<00:00,  4.20it/s]\n"
     ]
    },
    {
     "output_type": "stream",
     "name": "stdout",
     "text": [
      "                   all       5823      15787       0.68      0.542      0.601      0.401\n",
      "\n",
      "      Epoch    GPU_mem   box_loss   cls_loss   dfl_loss  Instances       Size\n"
     ]
    },
    {
     "output_type": "stream",
     "name": "stderr",
     "text": [
      "       9/50      3.51G      1.058      1.567      1.324         45        640: 100%|██████████| 358/358 [01:32<00:00,  3.85it/s]\n",
      "                 Class     Images  Instances      Box(P          R      mAP50  mAP50-95): 100%|██████████| 182/182 [00:43<00:00,  4.14it/s]\n"
     ]
    },
    {
     "output_type": "stream",
     "name": "stdout",
     "text": [
      "                   all       5823      15787       0.65      0.542      0.589      0.388\n",
      "\n",
      "      Epoch    GPU_mem   box_loss   cls_loss   dfl_loss  Instances       Size\n"
     ]
    },
    {
     "output_type": "stream",
     "name": "stderr",
     "text": [
      "      10/50      3.53G      1.048      1.545      1.312         24        640: 100%|██████████| 358/358 [01:33<00:00,  3.84it/s]\n",
      "                 Class     Images  Instances      Box(P          R      mAP50  mAP50-95): 100%|██████████| 182/182 [00:43<00:00,  4.22it/s]\n"
     ]
    },
    {
     "output_type": "stream",
     "name": "stdout",
     "text": [
      "                   all       5823      15787      0.672      0.552      0.607      0.413\n",
      "\n",
      "      Epoch    GPU_mem   box_loss   cls_loss   dfl_loss  Instances       Size\n"
     ]
    },
    {
     "output_type": "stream",
     "name": "stderr",
     "text": [
      "      11/50      3.54G      1.041      1.495      1.308         32        640: 100%|██████████| 358/358 [01:32<00:00,  3.85it/s]\n",
      "                 Class     Images  Instances      Box(P          R      mAP50  mAP50-95): 100%|██████████| 182/182 [00:43<00:00,  4.15it/s]\n"
     ]
    },
    {
     "output_type": "stream",
     "name": "stdout",
     "text": [
      "                   all       5823      15787      0.694      0.566      0.633      0.433\n",
      "\n",
      "      Epoch    GPU_mem   box_loss   cls_loss   dfl_loss  Instances       Size\n"
     ]
    },
    {
     "output_type": "stream",
     "name": "stderr",
     "text": [
      "      12/50      3.56G      1.029      1.475      1.303         17        640: 100%|██████████| 358/358 [01:33<00:00,  3.83it/s]\n",
      "                 Class     Images  Instances      Box(P          R      mAP50  mAP50-95): 100%|██████████| 182/182 [00:42<00:00,  4.26it/s]\n"
     ]
    },
    {
     "output_type": "stream",
     "name": "stdout",
     "text": [
      "                   all       5823      15787      0.698      0.568      0.636      0.433\n",
      "\n",
      "      Epoch    GPU_mem   box_loss   cls_loss   dfl_loss  Instances       Size\n"
     ]
    },
    {
     "output_type": "stream",
     "name": "stderr",
     "text": [
      "      13/50      3.57G      1.026      1.429      1.289         41        640: 100%|██████████| 358/358 [01:33<00:00,  3.84it/s]\n",
      "                 Class     Images  Instances      Box(P          R      mAP50  mAP50-95): 100%|██████████| 182/182 [00:43<00:00,  4.21it/s]\n"
     ]
    },
    {
     "output_type": "stream",
     "name": "stdout",
     "text": [
      "                   all       5823      15787      0.704      0.578       0.64      0.434\n",
      "\n",
      "      Epoch    GPU_mem   box_loss   cls_loss   dfl_loss  Instances       Size\n"
     ]
    },
    {
     "output_type": "stream",
     "name": "stderr",
     "text": [
      "      14/50      3.59G      1.012      1.405      1.289         24        640: 100%|██████████| 358/358 [01:32<00:00,  3.86it/s]\n",
      "                 Class     Images  Instances      Box(P          R      mAP50  mAP50-95): 100%|██████████| 182/182 [00:43<00:00,  4.15it/s]\n"
     ]
    },
    {
     "output_type": "stream",
     "name": "stdout",
     "text": [
      "                   all       5823      15787      0.706      0.573      0.638      0.437\n",
      "\n",
      "      Epoch    GPU_mem   box_loss   cls_loss   dfl_loss  Instances       Size\n"
     ]
    },
    {
     "output_type": "stream",
     "name": "stderr",
     "text": [
      "      15/50       3.6G      1.015      1.382      1.286         25        640: 100%|██████████| 358/358 [01:33<00:00,  3.85it/s]\n",
      "                 Class     Images  Instances      Box(P          R      mAP50  mAP50-95): 100%|██████████| 182/182 [00:42<00:00,  4.28it/s]\n"
     ]
    },
    {
     "output_type": "stream",
     "name": "stdout",
     "text": [
      "                   all       5823      15787      0.703      0.576      0.638      0.435\n",
      "\n",
      "      Epoch    GPU_mem   box_loss   cls_loss   dfl_loss  Instances       Size\n"
     ]
    },
    {
     "output_type": "stream",
     "name": "stderr",
     "text": [
      "      16/50      3.62G      1.002      1.358      1.277         22        640: 100%|██████████| 358/358 [01:33<00:00,  3.85it/s]\n",
      "                 Class     Images  Instances      Box(P          R      mAP50  mAP50-95): 100%|██████████| 182/182 [00:42<00:00,  4.26it/s]\n"
     ]
    },
    {
     "output_type": "stream",
     "name": "stdout",
     "text": [
      "                   all       5823      15787      0.709      0.587      0.649      0.448\n",
      "\n",
      "      Epoch    GPU_mem   box_loss   cls_loss   dfl_loss  Instances       Size\n"
     ]
    },
    {
     "output_type": "stream",
     "name": "stderr",
     "text": [
      "      17/50      3.64G     0.9896      1.323      1.265         25        640: 100%|██████████| 358/358 [01:32<00:00,  3.88it/s]\n",
      "                 Class     Images  Instances      Box(P          R      mAP50  mAP50-95): 100%|██████████| 182/182 [00:43<00:00,  4.17it/s]\n"
     ]
    },
    {
     "output_type": "stream",
     "name": "stdout",
     "text": [
      "                   all       5823      15787      0.717      0.595      0.658      0.455\n",
      "\n",
      "      Epoch    GPU_mem   box_loss   cls_loss   dfl_loss  Instances       Size\n"
     ]
    },
    {
     "output_type": "stream",
     "name": "stderr",
     "text": [
      "      18/50      3.65G     0.9837      1.309      1.265         24        640: 100%|██████████| 358/358 [01:32<00:00,  3.88it/s]\n",
      "                 Class     Images  Instances      Box(P          R      mAP50  mAP50-95): 100%|██████████| 182/182 [00:42<00:00,  4.28it/s]\n"
     ]
    },
    {
     "output_type": "stream",
     "name": "stdout",
     "text": [
      "                   all       5823      15787      0.734      0.582      0.652      0.448\n",
      "\n",
      "      Epoch    GPU_mem   box_loss   cls_loss   dfl_loss  Instances       Size\n"
     ]
    },
    {
     "output_type": "stream",
     "name": "stderr",
     "text": [
      "      19/50      3.67G     0.9659      1.275      1.253         40        640: 100%|██████████| 358/358 [01:33<00:00,  3.85it/s]\n",
      "                 Class     Images  Instances      Box(P          R      mAP50  mAP50-95): 100%|██████████| 182/182 [00:43<00:00,  4.17it/s]\n"
     ]
    },
    {
     "output_type": "stream",
     "name": "stdout",
     "text": [
      "                   all       5823      15787      0.712      0.586      0.651       0.45\n",
      "\n",
      "      Epoch    GPU_mem   box_loss   cls_loss   dfl_loss  Instances       Size\n"
     ]
    },
    {
     "output_type": "stream",
     "name": "stderr",
     "text": [
      "      20/50      3.69G     0.9791      1.268      1.259         45        640: 100%|██████████| 358/358 [01:31<00:00,  3.92it/s]\n",
      "                 Class     Images  Instances      Box(P          R      mAP50  mAP50-95): 100%|██████████| 182/182 [00:42<00:00,  4.25it/s]\n"
     ]
    },
    {
     "output_type": "stream",
     "name": "stdout",
     "text": [
      "                   all       5823      15787      0.719      0.599      0.663      0.463\n",
      "\n",
      "      Epoch    GPU_mem   box_loss   cls_loss   dfl_loss  Instances       Size\n"
     ]
    },
    {
     "output_type": "stream",
     "name": "stderr",
     "text": [
      "      21/50      3.71G      0.967      1.255      1.259         35        640: 100%|██████████| 358/358 [01:32<00:00,  3.89it/s]\n",
      "                 Class     Images  Instances      Box(P          R      mAP50  mAP50-95): 100%|██████████| 182/182 [00:42<00:00,  4.30it/s]\n"
     ]
    },
    {
     "output_type": "stream",
     "name": "stdout",
     "text": [
      "                   all       5823      15787      0.721      0.596      0.658      0.456\n",
      "\n",
      "      Epoch    GPU_mem   box_loss   cls_loss   dfl_loss  Instances       Size\n"
     ]
    },
    {
     "output_type": "stream",
     "name": "stderr",
     "text": [
      "      22/50      3.72G     0.9556      1.228      1.243         16        640: 100%|██████████| 358/358 [01:31<00:00,  3.91it/s]\n",
      "                 Class     Images  Instances      Box(P          R      mAP50  mAP50-95): 100%|██████████| 182/182 [00:43<00:00,  4.22it/s]\n"
     ]
    },
    {
     "output_type": "stream",
     "name": "stdout",
     "text": [
      "                   all       5823      15787      0.727      0.607       0.67      0.474\n",
      "\n",
      "      Epoch    GPU_mem   box_loss   cls_loss   dfl_loss  Instances       Size\n"
     ]
    },
    {
     "output_type": "stream",
     "name": "stderr",
     "text": [
      "      23/50      3.73G     0.9407      1.184      1.235         27        640: 100%|██████████| 358/358 [01:31<00:00,  3.90it/s]\n",
      "                 Class     Images  Instances      Box(P          R      mAP50  mAP50-95): 100%|██████████| 182/182 [00:42<00:00,  4.31it/s]\n"
     ]
    },
    {
     "output_type": "stream",
     "name": "stdout",
     "text": [
      "                   all       5823      15787      0.738      0.606      0.675      0.472\n",
      "\n",
      "      Epoch    GPU_mem   box_loss   cls_loss   dfl_loss  Instances       Size\n"
     ]
    },
    {
     "output_type": "stream",
     "name": "stderr",
     "text": [
      "      24/50      3.76G     0.9393       1.19      1.236         21        640: 100%|██████████| 358/358 [01:31<00:00,  3.91it/s]\n",
      "                 Class     Images  Instances      Box(P          R      mAP50  mAP50-95): 100%|██████████| 182/182 [00:43<00:00,  4.22it/s]\n"
     ]
    },
    {
     "output_type": "stream",
     "name": "stdout",
     "text": [
      "                   all       5823      15787      0.732      0.603      0.666      0.472\n",
      "\n",
      "      Epoch    GPU_mem   box_loss   cls_loss   dfl_loss  Instances       Size\n"
     ]
    },
    {
     "output_type": "stream",
     "name": "stderr",
     "text": [
      "      25/50      3.77G     0.9337      1.162      1.226         33        640: 100%|██████████| 358/358 [01:31<00:00,  3.90it/s]\n",
      "                 Class     Images  Instances      Box(P          R      mAP50  mAP50-95): 100%|██████████| 182/182 [00:42<00:00,  4.30it/s]\n"
     ]
    },
    {
     "output_type": "stream",
     "name": "stdout",
     "text": [
      "                   all       5823      15787      0.739       0.61      0.677      0.477\n",
      "\n",
      "      Epoch    GPU_mem   box_loss   cls_loss   dfl_loss  Instances       Size\n"
     ]
    },
    {
     "output_type": "stream",
     "name": "stderr",
     "text": [
      "      26/50      3.79G     0.9339      1.158      1.227         45        640: 100%|██████████| 358/358 [01:31<00:00,  3.90it/s]\n",
      "                 Class     Images  Instances      Box(P          R      mAP50  mAP50-95): 100%|██████████| 182/182 [00:43<00:00,  4.19it/s]\n"
     ]
    },
    {
     "output_type": "stream",
     "name": "stdout",
     "text": [
      "                   all       5823      15787      0.748      0.618      0.684      0.488\n",
      "\n",
      "      Epoch    GPU_mem   box_loss   cls_loss   dfl_loss  Instances       Size\n"
     ]
    },
    {
     "output_type": "stream",
     "name": "stderr",
     "text": [
      "      27/50       3.8G     0.9193      1.142       1.22         35        640: 100%|██████████| 358/358 [01:31<00:00,  3.90it/s]\n",
      "                 Class     Images  Instances      Box(P          R      mAP50  mAP50-95): 100%|██████████| 182/182 [00:42<00:00,  4.31it/s]\n"
     ]
    },
    {
     "output_type": "stream",
     "name": "stdout",
     "text": [
      "                   all       5823      15787      0.738      0.619      0.681      0.485\n",
      "\n",
      "      Epoch    GPU_mem   box_loss   cls_loss   dfl_loss  Instances       Size\n"
     ]
    },
    {
     "output_type": "stream",
     "name": "stderr",
     "text": [
      "      28/50      3.82G     0.9132       1.13       1.22         47        640: 100%|██████████| 358/358 [01:31<00:00,  3.93it/s]\n",
      "                 Class     Images  Instances      Box(P          R      mAP50  mAP50-95): 100%|██████████| 182/182 [00:42<00:00,  4.23it/s]\n"
     ]
    },
    {
     "output_type": "stream",
     "name": "stdout",
     "text": [
      "                   all       5823      15787      0.746      0.608      0.684      0.484\n",
      "\n",
      "      Epoch    GPU_mem   box_loss   cls_loss   dfl_loss  Instances       Size\n"
     ]
    },
    {
     "output_type": "stream",
     "name": "stderr",
     "text": [
      "      29/50      3.84G     0.9128      1.119      1.216         13        640: 100%|██████████| 358/358 [01:31<00:00,  3.90it/s]\n",
      "                 Class     Images  Instances      Box(P          R      mAP50  mAP50-95): 100%|██████████| 182/182 [00:42<00:00,  4.33it/s]\n"
     ]
    },
    {
     "output_type": "stream",
     "name": "stdout",
     "text": [
      "                   all       5823      15787      0.765      0.619      0.692      0.492\n",
      "\n",
      "      Epoch    GPU_mem   box_loss   cls_loss   dfl_loss  Instances       Size\n"
     ]
    },
    {
     "output_type": "stream",
     "name": "stderr",
     "text": [
      "      30/50      3.86G     0.9045       1.09      1.209         19        640: 100%|██████████| 358/358 [01:31<00:00,  3.92it/s]\n",
      "                 Class     Images  Instances      Box(P          R      mAP50  mAP50-95): 100%|██████████| 182/182 [00:43<00:00,  4.17it/s]\n"
     ]
    },
    {
     "output_type": "stream",
     "name": "stdout",
     "text": [
      "                   all       5823      15787      0.751      0.617      0.687      0.492\n",
      "\n",
      "      Epoch    GPU_mem   box_loss   cls_loss   dfl_loss  Instances       Size\n"
     ]
    },
    {
     "output_type": "stream",
     "name": "stderr",
     "text": [
      "      31/50      3.87G     0.8984      1.072        1.2         20        640: 100%|██████████| 358/358 [01:33<00:00,  3.81it/s]\n",
      "                 Class     Images  Instances      Box(P          R      mAP50  mAP50-95): 100%|██████████| 182/182 [00:42<00:00,  4.33it/s]\n"
     ]
    },
    {
     "output_type": "stream",
     "name": "stdout",
     "text": [
      "                   all       5823      15787       0.76      0.614      0.693      0.495\n",
      "\n",
      "      Epoch    GPU_mem   box_loss   cls_loss   dfl_loss  Instances       Size\n"
     ]
    },
    {
     "output_type": "stream",
     "name": "stderr",
     "text": [
      "      32/50      3.89G     0.8984      1.072      1.201         46        640: 100%|██████████| 358/358 [01:33<00:00,  3.83it/s]\n",
      "                 Class     Images  Instances      Box(P          R      mAP50  mAP50-95): 100%|██████████| 182/182 [00:42<00:00,  4.26it/s]\n"
     ]
    },
    {
     "output_type": "stream",
     "name": "stdout",
     "text": [
      "                   all       5823      15787      0.772      0.611      0.693      0.498\n",
      "\n",
      "      Epoch    GPU_mem   box_loss   cls_loss   dfl_loss  Instances       Size\n"
     ]
    },
    {
     "output_type": "stream",
     "name": "stderr",
     "text": [
      "      33/50       3.9G     0.8882      1.049      1.195         43        640: 100%|██████████| 358/358 [01:31<00:00,  3.89it/s]\n",
      "                 Class     Images  Instances      Box(P          R      mAP50  mAP50-95): 100%|██████████| 182/182 [00:42<00:00,  4.32it/s]\n"
     ]
    },
    {
     "output_type": "stream",
     "name": "stdout",
     "text": [
      "                   all       5823      15787      0.775      0.621      0.699      0.501\n",
      "\n",
      "      Epoch    GPU_mem   box_loss   cls_loss   dfl_loss  Instances       Size\n"
     ]
    },
    {
     "output_type": "stream",
     "name": "stderr",
     "text": [
      "      34/50      3.92G     0.8864      1.046      1.191         40        640: 100%|██████████| 358/358 [01:32<00:00,  3.87it/s]\n",
      "                 Class     Images  Instances      Box(P          R      mAP50  mAP50-95): 100%|██████████| 182/182 [00:42<00:00,  4.30it/s]\n"
     ]
    },
    {
     "output_type": "stream",
     "name": "stdout",
     "text": [
      "                   all       5823      15787      0.747       0.63      0.697      0.499\n",
      "\n",
      "      Epoch    GPU_mem   box_loss   cls_loss   dfl_loss  Instances       Size\n"
     ]
    },
    {
     "output_type": "stream",
     "name": "stderr",
     "text": [
      "      35/50      3.94G     0.8837      1.025      1.186         31        640: 100%|██████████| 358/358 [01:31<00:00,  3.90it/s]\n",
      "                 Class     Images  Instances      Box(P          R      mAP50  mAP50-95): 100%|██████████| 182/182 [00:42<00:00,  4.26it/s]\n"
     ]
    },
    {
     "output_type": "stream",
     "name": "stdout",
     "text": [
      "                   all       5823      15787      0.768       0.62      0.699      0.502\n",
      "\n",
      "      Epoch    GPU_mem   box_loss   cls_loss   dfl_loss  Instances       Size\n"
     ]
    },
    {
     "output_type": "stream",
     "name": "stderr",
     "text": [
      "      36/50      3.96G     0.8627      1.012       1.18         36        640: 100%|██████████| 358/358 [01:33<00:00,  3.85it/s]\n",
      "                 Class     Images  Instances      Box(P          R      mAP50  mAP50-95): 100%|██████████| 182/182 [00:42<00:00,  4.25it/s]\n"
     ]
    },
    {
     "output_type": "stream",
     "name": "stdout",
     "text": [
      "                   all       5823      15787      0.759      0.624      0.699      0.504\n",
      "\n",
      "      Epoch    GPU_mem   box_loss   cls_loss   dfl_loss  Instances       Size\n"
     ]
    },
    {
     "output_type": "stream",
     "name": "stderr",
     "text": [
      "      37/50      3.97G     0.8741     0.9945      1.179         27        640: 100%|██████████| 358/358 [01:34<00:00,  3.79it/s]\n",
      "                 Class     Images  Instances      Box(P          R      mAP50  mAP50-95): 100%|██████████| 182/182 [00:43<00:00,  4.23it/s]\n"
     ]
    },
    {
     "output_type": "stream",
     "name": "stdout",
     "text": [
      "                   all       5823      15787       0.78      0.623      0.705      0.507\n",
      "\n",
      "      Epoch    GPU_mem   box_loss   cls_loss   dfl_loss  Instances       Size\n"
     ]
    },
    {
     "output_type": "stream",
     "name": "stderr",
     "text": [
      "      38/50      3.99G     0.8579     0.9851       1.18         18        640: 100%|██████████| 358/358 [01:33<00:00,  3.83it/s]\n",
      "                 Class     Images  Instances      Box(P          R      mAP50  mAP50-95): 100%|██████████| 182/182 [00:42<00:00,  4.28it/s]\n"
     ]
    },
    {
     "output_type": "stream",
     "name": "stdout",
     "text": [
      "                   all       5823      15787      0.775      0.626      0.704      0.505\n",
      "\n",
      "      Epoch    GPU_mem   box_loss   cls_loss   dfl_loss  Instances       Size\n"
     ]
    },
    {
     "output_type": "stream",
     "name": "stderr",
     "text": [
      "      39/50      4.01G     0.8541     0.9696      1.171         43        640: 100%|██████████| 358/358 [01:33<00:00,  3.82it/s]\n",
      "                 Class     Images  Instances      Box(P          R      mAP50  mAP50-95): 100%|██████████| 182/182 [00:42<00:00,  4.26it/s]\n"
     ]
    },
    {
     "output_type": "stream",
     "name": "stdout",
     "text": [
      "                   all       5823      15787      0.765      0.633      0.706       0.51\n",
      "\n",
      "      Epoch    GPU_mem   box_loss   cls_loss   dfl_loss  Instances       Size\n"
     ]
    },
    {
     "output_type": "stream",
     "name": "stderr",
     "text": [
      "      40/50      4.02G     0.8491     0.9627      1.167         25        640: 100%|██████████| 358/358 [01:34<00:00,  3.81it/s]\n",
      "                 Class     Images  Instances      Box(P          R      mAP50  mAP50-95): 100%|██████████| 182/182 [00:44<00:00,  4.13it/s]\n"
     ]
    },
    {
     "output_type": "stream",
     "name": "stdout",
     "text": [
      "                   all       5823      15787       0.77      0.635      0.709      0.513\n",
      "Closing dataloader mosaic\n",
      "\u001B[34m\u001B[1malbumentations: \u001B[0mBlur(p=0.01, blur_limit=(3, 7)), MedianBlur(p=0.01, blur_limit=(3, 7)), ToGray(p=0.01, method='weighted_average', num_output_channels=3), CLAHE(p=0.01, clip_limit=(1.0, 4.0), tile_grid_size=(8, 8))\n",
      "\n",
      "      Epoch    GPU_mem   box_loss   cls_loss   dfl_loss  Instances       Size\n"
     ]
    },
    {
     "output_type": "stream",
     "name": "stderr",
     "text": [
      "      41/50      4.04G     0.8279     0.8541      1.152          9        640: 100%|██████████| 358/358 [01:31<00:00,  3.91it/s]\n",
      "                 Class     Images  Instances      Box(P          R      mAP50  mAP50-95): 100%|██████████| 182/182 [00:42<00:00,  4.26it/s]\n"
     ]
    },
    {
     "output_type": "stream",
     "name": "stdout",
     "text": [
      "                   all       5823      15787      0.756      0.627      0.699      0.503\n",
      "\n",
      "      Epoch    GPU_mem   box_loss   cls_loss   dfl_loss  Instances       Size\n"
     ]
    },
    {
     "output_type": "stream",
     "name": "stderr",
     "text": [
      "      42/50      4.05G     0.8088     0.7936       1.13         16        640: 100%|██████████| 358/358 [01:28<00:00,  4.05it/s]\n",
      "                 Class     Images  Instances      Box(P          R      mAP50  mAP50-95): 100%|██████████| 182/182 [00:43<00:00,  4.14it/s]\n"
     ]
    },
    {
     "output_type": "stream",
     "name": "stdout",
     "text": [
      "                   all       5823      15787      0.771      0.629      0.702      0.507\n",
      "\n",
      "      Epoch    GPU_mem   box_loss   cls_loss   dfl_loss  Instances       Size\n"
     ]
    },
    {
     "output_type": "stream",
     "name": "stderr",
     "text": [
      "      43/50      4.08G     0.7998     0.7772      1.125         16        640: 100%|██████████| 358/358 [01:31<00:00,  3.92it/s]\n",
      "                 Class     Images  Instances      Box(P          R      mAP50  mAP50-95): 100%|██████████| 182/182 [00:43<00:00,  4.18it/s]\n"
     ]
    },
    {
     "output_type": "stream",
     "name": "stdout",
     "text": [
      "                   all       5823      15787      0.759      0.635      0.702      0.507\n",
      "\n",
      "      Epoch    GPU_mem   box_loss   cls_loss   dfl_loss  Instances       Size\n"
     ]
    },
    {
     "output_type": "stream",
     "name": "stderr",
     "text": [
      "      44/50      4.09G     0.7913      0.759      1.119         20        640: 100%|██████████| 358/358 [01:32<00:00,  3.88it/s]\n",
      "                 Class     Images  Instances      Box(P          R      mAP50  mAP50-95): 100%|██████████| 182/182 [00:43<00:00,  4.20it/s]\n"
     ]
    },
    {
     "output_type": "stream",
     "name": "stdout",
     "text": [
      "                   all       5823      15787      0.782      0.626      0.703      0.507\n",
      "\n",
      "      Epoch    GPU_mem   box_loss   cls_loss   dfl_loss  Instances       Size\n"
     ]
    },
    {
     "output_type": "stream",
     "name": "stderr",
     "text": [
      "      45/50      4.11G      0.787     0.7422      1.117         15        640: 100%|██████████| 358/358 [01:32<00:00,  3.87it/s]\n",
      "                 Class     Images  Instances      Box(P          R      mAP50  mAP50-95): 100%|██████████| 182/182 [00:43<00:00,  4.18it/s]\n"
     ]
    },
    {
     "output_type": "stream",
     "name": "stdout",
     "text": [
      "                   all       5823      15787       0.77      0.637      0.706       0.51\n",
      "\n",
      "      Epoch    GPU_mem   box_loss   cls_loss   dfl_loss  Instances       Size\n"
     ]
    },
    {
     "output_type": "stream",
     "name": "stderr",
     "text": [
      "      46/50      4.12G     0.7764     0.7381      1.109         10        640: 100%|██████████| 358/358 [01:31<00:00,  3.90it/s]\n",
      "                 Class     Images  Instances      Box(P          R      mAP50  mAP50-95): 100%|██████████| 182/182 [00:44<00:00,  4.12it/s]\n"
     ]
    },
    {
     "output_type": "stream",
     "name": "stdout",
     "text": [
      "                   all       5823      15787       0.76      0.646      0.707      0.514\n",
      "\n",
      "      Epoch    GPU_mem   box_loss   cls_loss   dfl_loss  Instances       Size\n"
     ]
    },
    {
     "output_type": "stream",
     "name": "stderr",
     "text": [
      "      47/50      4.14G     0.7695     0.7173      1.104         16        640: 100%|██████████| 358/358 [01:32<00:00,  3.86it/s]\n",
      "                 Class     Images  Instances      Box(P          R      mAP50  mAP50-95): 100%|██████████| 182/182 [00:42<00:00,  4.24it/s]\n"
     ]
    },
    {
     "output_type": "stream",
     "name": "stdout",
     "text": [
      "                   all       5823      15787      0.755      0.648      0.709      0.514\n",
      "\n",
      "      Epoch    GPU_mem   box_loss   cls_loss   dfl_loss  Instances       Size\n"
     ]
    },
    {
     "output_type": "stream",
     "name": "stderr",
     "text": [
      "      48/50      4.16G     0.7649     0.7064      1.099          7        640: 100%|██████████| 358/358 [01:30<00:00,  3.94it/s]\n",
      "                 Class     Images  Instances      Box(P          R      mAP50  mAP50-95): 100%|██████████| 182/182 [00:44<00:00,  4.09it/s]\n"
     ]
    },
    {
     "output_type": "stream",
     "name": "stdout",
     "text": [
      "                   all       5823      15787      0.767      0.639      0.711      0.515\n",
      "\n",
      "      Epoch    GPU_mem   box_loss   cls_loss   dfl_loss  Instances       Size\n"
     ]
    },
    {
     "output_type": "stream",
     "name": "stderr",
     "text": [
      "      49/50      4.17G     0.7526     0.7019       1.09         14        640: 100%|██████████| 358/358 [01:32<00:00,  3.86it/s]\n",
      "                 Class     Images  Instances      Box(P          R      mAP50  mAP50-95): 100%|██████████| 182/182 [00:42<00:00,  4.29it/s]\n"
     ]
    },
    {
     "output_type": "stream",
     "name": "stdout",
     "text": [
      "                   all       5823      15787      0.769      0.642      0.711      0.517\n",
      "\n",
      "      Epoch    GPU_mem   box_loss   cls_loss   dfl_loss  Instances       Size\n"
     ]
    },
    {
     "output_type": "stream",
     "name": "stderr",
     "text": [
      "      50/50      4.19G     0.7503     0.6912      1.093          7        640: 100%|██████████| 358/358 [01:28<00:00,  4.05it/s]\n",
      "                 Class     Images  Instances      Box(P          R      mAP50  mAP50-95): 100%|██████████| 182/182 [00:43<00:00,  4.22it/s]\n"
     ]
    },
    {
     "output_type": "stream",
     "name": "stdout",
     "text": [
      "                   all       5823      15787      0.773      0.638      0.711      0.517\n",
      "\n",
      "50 epochs completed in 1.897 hours.\n",
      "Optimizer stripped from runs/detect/yolo_voc/weights/last.pt, 6.2MB\n",
      "Optimizer stripped from runs/detect/yolo_voc/weights/best.pt, 6.2MB\n",
      "\n",
      "Validating runs/detect/yolo_voc/weights/best.pt...\n",
      "Ultralytics 8.3.145 🚀 Python-3.11.12 torch-2.6.0+cu124 CUDA:0 (Tesla T4, 15095MiB)\n",
      "Model summary (fused): 72 layers, 3,009,548 parameters, 0 gradients, 8.1 GFLOPs\n"
     ]
    },
    {
     "output_type": "stream",
     "name": "stderr",
     "text": [
      "                 Class     Images  Instances      Box(P          R      mAP50  mAP50-95): 100%|██████████| 182/182 [00:45<00:00,  3.98it/s]\n"
     ]
    },
    {
     "output_type": "stream",
     "name": "stdout",
     "text": [
      "                   all       5823      15787      0.774      0.638      0.711      0.518\n",
      "             aeroplane        348        484      0.856      0.717      0.784      0.596\n",
      "               bicycle        290        380       0.84      0.692      0.766      0.569\n",
      "                  bird        374        629      0.806      0.574      0.669       0.46\n",
      "                  boat        252        491      0.673      0.473      0.536      0.328\n",
      "                bottle        369        733      0.742      0.462      0.557      0.374\n",
      "                   bus        211        320      0.863      0.741      0.815      0.681\n",
      "                   car        608       1173      0.833      0.634      0.749      0.543\n",
      "                   cat        544        618      0.811      0.806      0.861      0.672\n",
      "                 chair        642       1449      0.687      0.459      0.551      0.376\n",
      "                   cow        154        347      0.686      0.657      0.666      0.474\n",
      "           diningtable        323        374      0.735      0.545      0.621      0.431\n",
      "                   dog        661        773      0.771      0.734      0.801       0.61\n",
      "                 horse        245        373      0.789      0.729      0.796      0.613\n",
      "             motorbike        262        376      0.844      0.718      0.802      0.583\n",
      "                person       2232       5110      0.855      0.742      0.834      0.579\n",
      "           pottedplant        279        542      0.617      0.445      0.497      0.289\n",
      "                 sheep        155        485       0.75      0.669      0.721      0.544\n",
      "                  sofa        336        387      0.639      0.599      0.654      0.486\n",
      "                 train        275        329      0.865      0.754      0.838      0.642\n",
      "             tvmonitor        296        414      0.819      0.601      0.696      0.502\n",
      "Speed: 0.2ms preprocess, 1.8ms inference, 0.0ms loss, 1.6ms postprocess per image\n",
      "Results saved to \u001B[1mruns/detect/yolo_voc\u001B[0m\n",
      "\n",
      "Validating model...\n",
      "Ultralytics 8.3.145 🚀 Python-3.11.12 torch-2.6.0+cu124 CUDA:0 (Tesla T4, 15095MiB)\n",
      "Model summary (fused): 72 layers, 3,009,548 parameters, 0 gradients, 8.1 GFLOPs\n",
      "\u001B[34m\u001B[1mval: \u001B[0mFast image access ✅ (ping: 0.0±0.0 ms, read: 1515.3±928.0 MB/s, size: 39.6 KB)\n"
     ]
    },
    {
     "output_type": "stream",
     "name": "stderr",
     "text": [
      "\u001B[34m\u001B[1mval: \u001B[0mScanning /content/datasets/VOC/val/labels.cache... 5823 images, 0 backgrounds, 0 corrupt: 100%|██████████| 5823/5823 [00:00<?, ?it/s]\n",
      "                 Class     Images  Instances      Box(P          R      mAP50  mAP50-95): 100%|██████████| 364/364 [00:49<00:00,  7.37it/s]\n"
     ]
    },
    {
     "output_type": "stream",
     "name": "stdout",
     "text": [
      "                   all       5823      15787      0.773      0.638      0.711      0.518\n",
      "             aeroplane        348        484      0.857      0.717      0.784      0.596\n",
      "               bicycle        290        380      0.846      0.694      0.767       0.57\n",
      "                  bird        374        629      0.803      0.571      0.666      0.458\n",
      "                  boat        252        491      0.665      0.472      0.537      0.327\n",
      "                bottle        369        733      0.743      0.462      0.557      0.375\n",
      "                   bus        211        320      0.864      0.741      0.818      0.682\n",
      "                   car        608       1173      0.829      0.633      0.749      0.543\n",
      "                   cat        544        618       0.81      0.806      0.861      0.673\n",
      "                 chair        642       1449      0.687      0.464      0.554      0.376\n",
      "                   cow        154        347       0.69       0.66      0.665      0.472\n",
      "           diningtable        323        374      0.734      0.548      0.622      0.431\n",
      "                   dog        661        773      0.768      0.735      0.802      0.611\n",
      "                 horse        245        373      0.787      0.732      0.796      0.613\n",
      "             motorbike        262        376      0.839      0.715      0.802      0.584\n",
      "                person       2232       5110      0.853      0.743      0.834      0.579\n",
      "           pottedplant        279        542      0.616      0.443      0.497      0.289\n",
      "                 sheep        155        485      0.754       0.67      0.721      0.544\n",
      "                  sofa        336        387      0.638      0.607      0.655      0.486\n",
      "                 train        275        329      0.861      0.754      0.838      0.642\n",
      "             tvmonitor        296        414      0.815      0.599      0.692      0.502\n",
      "Speed: 0.2ms preprocess, 2.8ms inference, 0.0ms loss, 1.3ms postprocess per image\n",
      "Results saved to \u001B[1mruns/detect/yolo_voc2\u001B[0m\n",
      "\n",
      "Calculating accuracy metrics...\n",
      "Evaluating accuracy on 300 samples...\n",
      "\n",
      "==================================================\n",
      "FINAL RESULTS\n",
      "==================================================\n",
      "mAP@0.5:         0.7109\n",
      "mAP@0.5:0.95:    0.5176\n",
      "Detection Accuracy:      0.5617\n",
      "Classification Accuracy: 0.8133\n",
      "Precision:       0.8133\n",
      "Recall:          0.6448\n",
      "F1 Score:        0.7193\n",
      "Mean IoU:        0.8704\n",
      "==================================================\n"
     ]
    },
    {
     "output_type": "display_data",
     "data": {
      "text/plain": [
       "<Figure size 1200x800 with 4 Axes>"
      ],
      "image/png": "[encoded data removed]"
     },
     "metadata": {}
    },
    {
     "output_type": "stream",
     "name": "stdout",
     "text": [
      "\n",
      "Model saved as 'yolo_voc_final.pt'\n"
     ]
    }
   ]
  }
 ]
}
